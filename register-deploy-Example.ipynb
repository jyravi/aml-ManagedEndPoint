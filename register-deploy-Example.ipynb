{
  "cells": [
    {
      "cell_type": "markdown",
      "metadata": {
        "nteract": {
          "transient": {
            "deleting": false
          }
        }
      },
      "source": [
        "### Pre-requisites\n",
        "1) Azure Subscription\n",
        "\n",
        "2) Create Azure Machine Learning Service resource https://learn.microsoft.com/en-us/azure/machine-learning/quickstart-create-resources\n",
        "or using Azure Portal https://ms.portal.azure.com/#create/Microsoft.MachineLearningServices\n",
        "\n",
        "3) You can spin -up a compute instance in the Azure ML workspace and use this as development environment or you can use your own development environment (your desktop/laptop)\n",
        "\n",
        "4) Install the SDK v2\n",
        "\n",
        "_**pip install azure-ai-ml**_"
      ]
    },
    {
      "cell_type": "code",
      "execution_count": 1,
      "metadata": {
        "gather": {
          "logged": 1670420361771
        }
      },
      "outputs": [],
      "source": [
        "# import required libraries\n",
        "from azure.ai.ml import MLClient\n",
        "from azure.ai.ml.entities import Model\n",
        "from azure.identity import DefaultAzureCredential\n",
        "from azure.ai.ml.constants import AssetTypes"
      ]
    },
    {
      "cell_type": "code",
      "execution_count": 2,
      "metadata": {
        "gather": {
          "logged": 1670420404622
        },
        "jupyter": {
          "outputs_hidden": false,
          "source_hidden": false
        },
        "nteract": {
          "transient": {
            "deleting": false
          }
        }
      },
      "outputs": [],
      "source": [
        "from azure.ai.ml import MLClient\n",
        "from azure.identity import DefaultAzureCredential\n",
        "\n",
        "# Enter details of your AML workspace\n",
        "subscription_id = \"<subscription-id>\"\n",
        "resource_group = \"<resource-group>\"\n",
        "workspace = \"<workspace-name>\"\n",
        "\n",
        "# get a handle to the workspace\n",
        "ml_client = MLClient(\n",
        "    DefaultAzureCredential(), subscription_id, resource_group, workspace\n",
        ")"
      ]
    },
    {
      "cell_type": "markdown",
      "metadata": {
        "nteract": {
          "transient": {
            "deleting": false
          }
        }
      },
      "source": [
        "### Register your model to workspace ###"
      ]
    },
    {
      "cell_type": "code",
      "execution_count": 1,
      "metadata": {
        "gather": {
          "logged": 1670916746226
        },
        "jupyter": {
          "outputs_hidden": false,
          "source_hidden": false
        },
        "nteract": {
          "transient": {
            "deleting": false
          }
        }
      },
      "outputs": [],
      "source": [
        "from azure.ai.ml.entities import Model\n",
        "from azure.ai.ml.constants import AssetTypes\n",
        "\n",
        "file_model = Model(\n",
        "    path= \"./model/sklearn_regression_model.pkl\",#path to your model file\n",
        "    type=AssetTypes.CUSTOM_MODEL,\n",
        "    name=\"sklearnmodel-localfile\",#provide model name of your choice\n",
        "    description=\"Model created from local file\",#if you would like to add a description\n",
        ")\n",
        "ml_client.models.create_or_update(file_model)"
      ]
    },
    {
      "cell_type": "markdown",
      "metadata": {
        "nteract": {
          "transient": {
            "deleting": false
          }
        }
      },
      "source": [
        "### Creating Online Endpoint"
      ]
    },
    {
      "cell_type": "code",
      "execution_count": 6,
      "metadata": {
        "gather": {
          "logged": 1670420745748
        },
        "jupyter": {
          "outputs_hidden": false,
          "source_hidden": false
        },
        "nteract": {
          "transient": {
            "deleting": false
          }
        }
      },
      "outputs": [],
      "source": [
        "from azure.ai.ml.entities import (\n",
        "    ManagedOnlineEndpoint,\n",
        "    ManagedOnlineDeployment,\n",
        "    Model,\n",
        "    Environment,\n",
        "    CodeConfiguration,\n",
        ")\n",
        "import datetime\n",
        "\n",
        "# Creating a unique endpoint name \n",
        "online_endpoint_name = \"endpoint-\" + datetime.datetime.now().strftime(\"%m%d%H%M%f\") #you may create a unique endpoint name of your choice\n",
        "\n",
        "# create an online endpoint\n",
        "endpoint = ManagedOnlineEndpoint(\n",
        "    name=online_endpoint_name,\n",
        "    description=\"sklearnmodel-endpoint\",\n",
        "    auth_mode=\"key\",\n",
        "    tags={\"outcome\": \"sklearnprediction\"} ## Just an example. You can provide your own tags. \n",
        ")\n",
        "\n",
        "ml_client.begin_create_or_update(endpoint)"
      ]
    },
    {
      "cell_type": "markdown",
      "metadata": {
        "nteract": {
          "transient": {
            "deleting": false
          }
        }
      },
      "source": [
        "### Deploy Model, Environment and Scoring Script to the Endpoint created."
      ]
    },
    {
      "cell_type": "code",
      "execution_count": 26,
      "metadata": {
        "gather": {
          "logged": 1670422522648
        },
        "jupyter": {
          "outputs_hidden": false,
          "source_hidden": false
        },
        "nteract": {
          "transient": {
            "deleting": false
          }
        }
      },
      "outputs": [],
      "source": [
        "### Environment for deployment\n",
        "env = Environment(\n",
        "    conda_file=\"./environment/conda.yml\", # you cn create ,yml file with your own dependencies.\n",
        "    image=\"mcr.microsoft.com/azureml/openmpi3.1.2-ubuntu18.04:20210727.v1\", # This is the base image. \n",
        ")\n",
        "\n",
        "\n",
        "blue_deployment = ManagedOnlineDeployment(\n",
        "    name=\"blue\",\n",
        "    endpoint_name=online_endpoint_name,\n",
        "    model=\"sklearnmodel-localfile@latest\", ## model name registered along with version\n",
        "    environment=env,\n",
        "    code_configuration=CodeConfiguration(\n",
        "        code=\"./onlinescoring\", scoring_script=\"score.py\" # point to the location where scoring script is stored and pass the name of the scoring script.\n",
        "    ),\n",
        "    instance_type=\"Standard_F2s_v2\", ### VM size to be used.\n",
        "    instance_count=1, ### As of now we will start with 1 and then we can increase.\n",
        ")\n",
        "\n",
        "ml_client.begin_create_or_update(blue_deployment)"
      ]
    }
  ],
  "metadata": {
    "kernel_info": {
      "name": "python310-sdkv2"
    },
    "kernelspec": {
      "display_name": "Python 3.10 - SDK V2",
      "language": "python",
      "name": "python310-sdkv2"
    },
    "language_info": {
      "codemirror_mode": {
        "name": "ipython",
        "version": 3
      },
      "file_extension": ".py",
      "mimetype": "text/x-python",
      "name": "python",
      "nbconvert_exporter": "python",
      "pygments_lexer": "ipython3",
      "version": "3.10.4"
    },
    "microsoft": {
      "host": {
        "AzureML": {
          "notebookHasBeenCompleted": true
        }
      }
    },
    "nteract": {
      "version": "nteract-front-end@1.0.0"
    }
  },
  "nbformat": 4,
  "nbformat_minor": 2
}
